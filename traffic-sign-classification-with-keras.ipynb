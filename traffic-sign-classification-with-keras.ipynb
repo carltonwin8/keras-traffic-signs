{
 "cells": [
  {
   "cell_type": "markdown",
   "metadata": {},
   "source": [
    "# Traffic Sign Classification with Keras\n",
    "\n",
    "Keras exists to make coding deep neural networks simpler. To demonstrate just how easy it is, you’re going to use Keras to build a convolutional neural network in a few dozen lines of code.\n",
    "\n",
    "You’ll be connecting the concepts from the previous lessons to the methods that Keras provides."
   ]
  },
  {
   "cell_type": "markdown",
   "metadata": {},
   "source": [
    "## Dataset\n",
    "\n",
    "The network you'll build with Keras is similar to the example that you can find in Keras’s GitHub repository that builds out a [convolutional neural network for MNIST](https://github.com/fchollet/keras/blob/master/examples/mnist_cnn.py). \n",
    "\n",
    "However, instead of using the [MNIST](http://yann.lecun.com/exdb/mnist/) dataset, you're going to use the [German Traffic Sign Recognition Benchmark](http://benchmark.ini.rub.de/?section=gtsrb&subsection=news) dataset that you've used previously.\n",
    "\n",
    "You can download pickle files with sanitized traffic sign data here."
   ]
  },
  {
   "cell_type": "markdown",
   "metadata": {},
   "source": [
    "## Overview\n",
    "\n",
    "Here are the steps you'll take to build the network:\n",
    "\n",
    "1. First load the training data and do a train/validation split.\n",
    "2. Preprocess data.\n",
    "3. Build a feedforward neural network to classify traffic signs.\n",
    "4. Build a convolutional neural network to classify traffic signs.\n",
    "5. Evaluate performance of final neural network on testing data.\n",
    "\n",
    "Keep an eye on the network’s accuracy over time. Once the accuracy reaches the 98% range, you can be confident that you’ve built and trained an effective model."
   ]
  },
  {
   "cell_type": "code",
   "execution_count": 1,
   "metadata": {
    "collapsed": false
   },
   "outputs": [],
   "source": [
    "import pickle\n",
    "import numpy as np\n",
    "from sklearn.model_selection import train_test_split\n",
    "import math"
   ]
  },
  {
   "cell_type": "markdown",
   "metadata": {},
   "source": [
    "## Load the Data\n",
    "\n",
    "Start by importing the data from the pickle file."
   ]
  },
  {
   "cell_type": "code",
   "execution_count": 2,
   "metadata": {
    "collapsed": false
   },
   "outputs": [],
   "source": [
    "# TODO: Implement load the data here.\n",
    "with open('train.p', 'rb') as f:\n",
    "    data = pickle.load(f)"
   ]
  },
  {
   "cell_type": "markdown",
   "metadata": {},
   "source": [
    "## Validate the Network\n",
    "Split the training data into a training and validation set.\n",
    "\n",
    "Measure the [validation accuracy](https://keras.io/models/sequential/) of the network after two training epochs.\n",
    "\n",
    "Hint: [Use the `train_test_split()` method](http://scikit-learn.org/stable/modules/generated/sklearn.model_selection.train_test_split.html) from scikit-learn."
   ]
  },
  {
   "cell_type": "code",
   "execution_count": 31,
   "metadata": {
    "collapsed": false
   },
   "outputs": [],
   "source": [
    "import matplotlib.pyplot as plt\n",
    "%matplotlib inline"
   ]
  },
  {
   "cell_type": "code",
   "execution_count": 34,
   "metadata": {
    "collapsed": false
   },
   "outputs": [
    {
     "data": {
      "image/png": "[encoded data removed]",
      "text/plain": [
       "<matplotlib.figure.Figure at 0x1273d3748>"
      ]
     },
     "metadata": {},
     "output_type": "display_data"
    }
   ],
   "source": [
    "plt.hist(data['labels'], bins = 43);"
   ]
  },
  {
   "cell_type": "code",
   "execution_count": 49,
   "metadata": {
    "collapsed": false
   },
   "outputs": [],
   "source": [
    "from keras.utils import np_utils\n",
    "\n",
    "X = data['features']\n",
    "y = data['labels']\n",
    "\n",
    "\n",
    "# TODO: Use `train_test_split` here.\n",
    "X_train, X_val, y_train, y_val = train_test_split(X, y, test_size=0.33, stratify = y )\n"
   ]
  },
  {
   "cell_type": "code",
   "execution_count": 50,
   "metadata": {
    "collapsed": true
   },
   "outputs": [],
   "source": [
    "y_val = np_utils.to_categorical(y_val, 43)\n",
    "y_train = np_utils.to_categorical(y_train, 43)"
   ]
  },
  {
   "cell_type": "code",
   "execution_count": 51,
   "metadata": {
    "collapsed": true
   },
   "outputs": [],
   "source": [
    "# STOP: Do not change the tests below. Your implementation should pass these tests. \n",
    "assert(X_train.shape[0] == y_train.shape[0]), \"The number of images is not equal to the number of labels.\"\n",
    "assert(X_train.shape[1:] == (32,32,3)), \"The dimensions of the images are not 32 x 32 x 3.\"\n",
    "assert(X_val.shape[0] == y_val.shape[0]), \"The number of images is not equal to the number of labels.\"\n",
    "assert(X_val.shape[1:] == (32,32,3)), \"The dimensions of the images are not 32 x 32 x 3.\""
   ]
  },
  {
   "cell_type": "markdown",
   "metadata": {},
   "source": [
    "## Preprocess the Data\n",
    "\n",
    "Now that you've loaded the training data, preprocess the data such that it's in the range between -0.5 and 0.5."
   ]
  },
  {
   "cell_type": "code",
   "execution_count": 52,
   "metadata": {
    "collapsed": false
   },
   "outputs": [],
   "source": [
    "# TODO: Implement data normalization here.\n",
    "X_train = X_train.astype('float32')\n",
    "X_val = X_val.astype('float32')\n",
    "X_train = X_train / 255 - 0.5\n",
    "X_val = X_val / 255 - 0.5"
   ]
  },
  {
   "cell_type": "code",
   "execution_count": 6,
   "metadata": {
    "collapsed": true
   },
   "outputs": [],
   "source": [
    "# STOP: Do not change the tests below. Your implementation should pass these tests. \n",
    "assert(math.isclose(np.min(X_train), -0.5, abs_tol=1e-5) and math.isclose(np.max(X_train), 0.5, abs_tol=1e-5)), \"The range of the training data is: %.1f to %.1f\" % (np.min(X_train), np.max(X_train))\n",
    "assert(math.isclose(np.min(X_val), -0.5, abs_tol=1e-5) and math.isclose(np.max(X_val), 0.5, abs_tol=1e-5)), \"The range of the validation data is: %.1f to %.1f\" % (np.min(X_val), np.max(X_val))"
   ]
  },
  {
   "cell_type": "markdown",
   "metadata": {},
   "source": [
    "## Build a Two-Layer Feedfoward Network\n",
    "\n",
    "The code you've written so far is for data processing, not specific to Keras. Here you're going to build Keras-specific code.\n",
    "\n",
    "Build a two-layer feedforward neural network, with 128 neurons in the fully-connected hidden layer. \n",
    "\n",
    "To get started, review the Keras documentation about [models](https://keras.io/models/sequential/) and [layers](https://keras.io/layers/core/).\n",
    "\n",
    "The Keras example of a [Multi-Layer Perceptron](https://github.com/fchollet/keras/blob/master/examples/mnist_mlp.py) network is similar to what you need to do here. Use that as a guide, but keep in mind that there are a number of differences."
   ]
  },
  {
   "cell_type": "code",
   "execution_count": 7,
   "metadata": {
    "collapsed": false
   },
   "outputs": [],
   "source": [
    "# TODO: Build a two-layer feedforward neural network with Keras here.\n",
    "from keras.models import Sequential\n",
    "from keras.layers import Dense, Input, Activation\n",
    "from keras.callbacks import EarlyStopping\n",
    "earlystop= EarlyStopping(min_delta= 0.008, patience= 1, verbose=1)\n",
    "\n",
    "\n",
    "model1 = Sequential()\n",
    "model1.add(Dense(128, activation='relu', input_shape=(32*32*3,)))\n",
    "model1.add(Dense(43, activation='softmax'))"
   ]
  },
  {
   "cell_type": "code",
   "execution_count": 8,
   "metadata": {
    "collapsed": false
   },
   "outputs": [],
   "source": [
    "# STOP: Do not change the tests below. Your implementation should pass these tests.\n",
    "dense_layers = []\n",
    "for l in model1.layers:\n",
    "    if type(l) == Dense:\n",
    "        dense_layers.append(l)\n",
    "assert(len(dense_layers) == 2), \"There should be 2 Dense layers.\"\n",
    "d1 = dense_layers[0]\n",
    "d2 = dense_layers[1]\n",
    "assert(d1.input_shape == (None, 3072))\n",
    "assert(d1.output_shape == (None, 128))\n",
    "assert(d2.input_shape == (None, 128))\n",
    "assert(d2.output_shape == (None, 43))\n",
    "\n",
    "last_layer = model1.layers[-1]\n",
    "assert(last_layer.activation.__name__ == 'softmax'), \"Last layer should be softmax activation, is {}.\".format(last_layer.activation.__name__)"
   ]
  },
  {
   "cell_type": "code",
   "execution_count": 9,
   "metadata": {
    "collapsed": false
   },
   "outputs": [
    {
     "name": "stdout",
     "output_type": "stream",
     "text": [
      "dense_1 (None, 3072) (None, 128) <function relu at 0x12295fd90>\n",
      "dense_2 (None, 128) (None, 43) <function softmax at 0x12295fb70>\n"
     ]
    }
   ],
   "source": [
    "# Debugging\n",
    "for l in model1.layers:\n",
    "    print(l.name, l.input_shape, l.output_shape, l.activation)"
   ]
  },
  {
   "cell_type": "markdown",
   "metadata": {},
   "source": [
    "## Train the Network\n",
    "Compile and train the network for 2 epochs. [Use the `adam` optimizer, with `categorical_crossentropy` loss.](https://keras.io/models/sequential/)\n",
    "\n",
    "Hint 1: In order to use categorical cross entropy, you will need to [one-hot encode the labels](https://github.com/fchollet/keras/blob/master/keras/utils/np_utils.py).\n",
    "\n",
    "Hint 2: In order to pass the input images to the fully-connected hidden layer, you will need to [reshape the input](https://github.com/fchollet/keras/blob/master/examples/mnist_mlp.py).\n",
    "\n",
    "Hint 3: Keras's `.fit()` method returns a `History.history` object, which the tests below use. Save that to a variable named `history`."
   ]
  },
  {
   "cell_type": "code",
   "execution_count": 10,
   "metadata": {
    "collapsed": false
   },
   "outputs": [
    {
     "name": "stdout",
     "output_type": "stream",
     "text": [
      "Train on 26270 samples, validate on 12939 samples\n",
      "Epoch 1/20\n",
      "26270/26270 [==============================] - 4s - loss: 1.9110 - acc: 0.5042 - val_loss: 1.1930 - val_acc: 0.6879\n",
      "Epoch 2/20\n",
      "26270/26270 [==============================] - 4s - loss: 0.9514 - acc: 0.7496 - val_loss: 0.8151 - val_acc: 0.7639\n",
      "Epoch 3/20\n",
      "26270/26270 [==============================] - 4s - loss: 0.6693 - acc: 0.8292 - val_loss: 0.7043 - val_acc: 0.7946\n",
      "Epoch 4/20\n",
      "26270/26270 [==============================] - 4s - loss: 0.5281 - acc: 0.8667 - val_loss: 0.5379 - val_acc: 0.8601\n",
      "Epoch 5/20\n",
      "26270/26270 [==============================] - 4s - loss: 0.4443 - acc: 0.8848 - val_loss: 0.4466 - val_acc: 0.8895\n",
      "Epoch 6/20\n",
      "26270/26270 [==============================] - 4s - loss: 0.3734 - acc: 0.9052 - val_loss: 0.4177 - val_acc: 0.8947\n",
      "Epoch 7/20\n",
      "26270/26270 [==============================] - 4s - loss: 0.3406 - acc: 0.9119 - val_loss: 0.4899 - val_acc: 0.8588\n",
      "Epoch 8/20\n",
      "26270/26270 [==============================] - 4s - loss: 0.3126 - acc: 0.9181 - val_loss: 0.3270 - val_acc: 0.9120\n",
      "Epoch 9/20\n",
      "26270/26270 [==============================] - 4s - loss: 0.2759 - acc: 0.9296 - val_loss: 0.3253 - val_acc: 0.9052\n",
      "Epoch 10/20\n",
      "26270/26270 [==============================] - 4s - loss: 0.2550 - acc: 0.9335 - val_loss: 0.3532 - val_acc: 0.8834\n",
      "Epoch 00009: early stopping\n"
     ]
    }
   ],
   "source": [
    "# TODO: Compile and train the model here.\n",
    "\n",
    "X_train_flat = X_train.reshape(-1, 32*32*3)\n",
    "X_val_flat = X_val.reshape(-1, 32*32*3)\n",
    "\n",
    "model1.compile(loss='categorical_crossentropy',\n",
    "              optimizer='adam',\n",
    "              metrics=['accuracy'])\n",
    "history1 = model1.fit(X_train_flat, y_train,\n",
    "                    batch_size=128, nb_epoch=20,\n",
    "                    verbose=1, validation_data=(X_val_flat, y_val), callbacks = [earlystop])\n"
   ]
  },
  {
   "cell_type": "markdown",
   "metadata": {},
   "source": [
    "**Validation Accuracy**: (fill in here)"
   ]
  },
  {
   "cell_type": "markdown",
   "metadata": {},
   "source": [
    "## Congratulations\n",
    "You've built a feedforward neural network in Keras!\n",
    "\n",
    "Don't stop here! Next, you'll add a convolutional layer to drive.py."
   ]
  },
  {
   "cell_type": "markdown",
   "metadata": {},
   "source": [
    "## Convolutions\n",
    "Build a new network, similar to your existing network. Before the hidden layer, add a 3x3 [convolutional layer](https://keras.io/layers/convolutional/#convolution2d) with 32 filters and valid padding.\n",
    "\n",
    "Then compile and train the network.\n",
    "\n",
    "Hint 1: The Keras example of a [convolutional neural network](https://github.com/fchollet/keras/blob/master/examples/mnist_cnn.py) for MNIST would be a good example to review.\n",
    "\n",
    "Hint 2: Now that the first layer of the network is a convolutional layer, you no longer need to reshape the input images before passing them to the network. You might need to reload your training data to recover the original shape.\n",
    "\n",
    "Hint 3: Add a [`Flatten()` layer](https://keras.io/layers/core/#flatten) between the convolutional layer and the fully-connected hidden layer."
   ]
  },
  {
   "cell_type": "code",
   "execution_count": 12,
   "metadata": {
    "collapsed": true
   },
   "outputs": [],
   "source": [
    "# TODO: Re-construct the network and add a convolutional layer before the first fully-connected layer.\n",
    "from keras.layers import Conv2D, Flatten\n",
    "\n"
   ]
  },
  {
   "cell_type": "code",
   "execution_count": 53,
   "metadata": {
    "collapsed": false
   },
   "outputs": [
    {
     "name": "stdout",
     "output_type": "stream",
     "text": [
      "____________________________________________________________________________________________________\n",
      "Layer (type)                     Output Shape          Param #     Connected to                     \n",
      "====================================================================================================\n",
      "convolution2d_6 (Convolution2D)  (None, 30, 30, 32)    896         convolution2d_input_6[0][0]      \n",
      "____________________________________________________________________________________________________\n",
      "flatten_6 (Flatten)              (None, 28800)         0           convolution2d_6[0][0]            \n",
      "____________________________________________________________________________________________________\n",
      "dense_13 (Dense)                 (None, 128)           3686528     flatten_6[0][0]                  \n",
      "____________________________________________________________________________________________________\n",
      "dense_14 (Dense)                 (None, 43)            5547        dense_13[0][0]                   \n",
      "====================================================================================================\n",
      "Total params: 3692971\n",
      "____________________________________________________________________________________________________\n",
      "Train on 26270 samples, validate on 12939 samples\n",
      "Epoch 1/20\n",
      "26270/26270 [==============================] - 54s - loss: 1.2752 - acc: 0.6687 - val_loss: 0.5200 - val_acc: 0.8721\n",
      "Epoch 2/20\n",
      "26270/26270 [==============================] - 55s - loss: 0.3343 - acc: 0.9162 - val_loss: 0.2874 - val_acc: 0.9312\n",
      "Epoch 3/20\n",
      "26270/26270 [==============================] - 53s - loss: 0.1892 - acc: 0.9533 - val_loss: 0.2507 - val_acc: 0.9293\n",
      "Epoch 4/20\n",
      "26270/26270 [==============================] - 55s - loss: 0.1241 - acc: 0.9708 - val_loss: 0.1885 - val_acc: 0.9536\n",
      "Epoch 5/20\n",
      "26270/26270 [==============================] - 52s - loss: 0.0862 - acc: 0.9808 - val_loss: 0.1854 - val_acc: 0.9516\n",
      "Epoch 6/20\n",
      "26270/26270 [==============================] - 53s - loss: 0.0651 - acc: 0.9853 - val_loss: 0.1647 - val_acc: 0.9575\n",
      "Epoch 7/20\n",
      "26270/26270 [==============================] - 52s - loss: 0.0505 - acc: 0.9891 - val_loss: 0.1534 - val_acc: 0.9639\n",
      "Epoch 8/20\n",
      "26270/26270 [==============================] - 55s - loss: 0.0372 - acc: 0.9921 - val_loss: 0.1455 - val_acc: 0.9673\n",
      "Epoch 9/20\n",
      "26270/26270 [==============================] - 54s - loss: 0.0285 - acc: 0.9938 - val_loss: 0.1526 - val_acc: 0.9638\n",
      "Epoch 10/20\n",
      "26270/26270 [==============================] - 55s - loss: 0.0267 - acc: 0.9945 - val_loss: 0.1244 - val_acc: 0.9742\n",
      "Epoch 11/20\n",
      "26270/26270 [==============================] - 55s - loss: 0.0446 - acc: 0.9891 - val_loss: 0.1995 - val_acc: 0.9543\n",
      "Epoch 12/20\n",
      "26270/26270 [==============================] - 55s - loss: 0.0378 - acc: 0.9898 - val_loss: 0.1422 - val_acc: 0.9696\n",
      "Epoch 13/20\n",
      "26270/26270 [==============================] - 56s - loss: 0.0206 - acc: 0.9953 - val_loss: 0.1187 - val_acc: 0.9756\n",
      "Epoch 14/20\n",
      "26270/26270 [==============================] - 52s - loss: 0.0094 - acc: 0.9986 - val_loss: 0.1223 - val_acc: 0.9760\n",
      "Epoch 15/20\n",
      "26270/26270 [==============================] - 53s - loss: 0.0200 - acc: 0.9953 - val_loss: 0.1615 - val_acc: 0.9657\n",
      "Epoch 16/20\n",
      "26270/26270 [==============================] - 50s - loss: 0.0357 - acc: 0.9914 - val_loss: 0.2802 - val_acc: 0.9454\n",
      "Epoch 17/20\n",
      "26270/26270 [==============================] - 57s - loss: 0.0271 - acc: 0.9933 - val_loss: 0.1707 - val_acc: 0.9667\n",
      "Epoch 18/20\n",
      "26270/26270 [==============================] - 56s - loss: 0.0151 - acc: 0.9960 - val_loss: 0.1366 - val_acc: 0.9734\n",
      "Epoch 19/20\n",
      "26270/26270 [==============================] - 51s - loss: 0.0105 - acc: 0.9976 - val_loss: 0.1415 - val_acc: 0.9727\n",
      "Epoch 20/20\n",
      "26270/26270 [==============================] - 52s - loss: 0.0215 - acc: 0.9952 - val_loss: 0.1917 - val_acc: 0.9633\n"
     ]
    }
   ],
   "source": [
    "model2 = Sequential()\n",
    "model2.add(Conv2D(32, 3, 3, input_shape=(32, 32, 3), activation='relu'))\n",
    "model2.add(Flatten())\n",
    "model2.add(Dense(128, activation='relu'))\n",
    "model2.add(Dense(43, activation='softmax'))\n",
    "\n",
    "model2.summary()\n",
    "# TODO: Compile and train the model here.\n",
    "model2.compile(loss='categorical_crossentropy',\n",
    "              optimizer='adam',\n",
    "              metrics=['accuracy'])\n",
    "history2 = model2.fit(X_train, y_train,\n",
    "                    batch_size=128, nb_epoch=20,\n",
    "                    verbose=1, validation_data=(X_val, y_val), callbacks = [earlystop])"
   ]
  },
  {
   "cell_type": "markdown",
   "metadata": {},
   "source": [
    "**Validation Accuracy**: (fill in here)"
   ]
  },
  {
   "cell_type": "markdown",
   "metadata": {},
   "source": [
    "## Pooling\n",
    "Re-construct your network and add a 2x2 [pooling layer](https://keras.io/layers/pooling/#maxpooling2d) immediately following your convolutional layer.\n",
    "\n",
    "Then compile and train the network."
   ]
  },
  {
   "cell_type": "code",
   "execution_count": 14,
   "metadata": {
    "collapsed": true
   },
   "outputs": [],
   "source": [
    "# TODO: Re-construct the network and add a pooling layer after the convolutional layer.\n",
    "# TODO: Re-construct the network and add a pooling layer after the convolutional layer.\n",
    "from keras.layers import Conv2D, Flatten, MaxPooling2D, Activation"
   ]
  },
  {
   "cell_type": "code",
   "execution_count": 16,
   "metadata": {
    "collapsed": false
   },
   "outputs": [
    {
     "name": "stdout",
     "output_type": "stream",
     "text": [
      "____________________________________________________________________________________________________\n",
      "Layer (type)                     Output Shape          Param #     Connected to                     \n",
      "====================================================================================================\n",
      "convolution2d_3 (Convolution2D)  (None, 30, 30, 32)    896         convolution2d_input_3[0][0]      \n",
      "____________________________________________________________________________________________________\n",
      "maxpooling2d_2 (MaxPooling2D)    (None, 15, 15, 32)    0           convolution2d_3[0][0]            \n",
      "____________________________________________________________________________________________________\n",
      "activation_2 (Activation)        (None, 15, 15, 32)    0           maxpooling2d_2[0][0]             \n",
      "____________________________________________________________________________________________________\n",
      "flatten_3 (Flatten)              (None, 7200)          0           activation_2[0][0]               \n",
      "____________________________________________________________________________________________________\n",
      "dense_7 (Dense)                  (None, 128)           921728      flatten_3[0][0]                  \n",
      "____________________________________________________________________________________________________\n",
      "dense_8 (Dense)                  (None, 43)            5547        dense_7[0][0]                    \n",
      "====================================================================================================\n",
      "Total params: 928171\n",
      "____________________________________________________________________________________________________\n",
      "Train on 26270 samples, validate on 12939 samples\n",
      "Epoch 1/20\n",
      "26270/26270 [==============================] - 35s - loss: 1.6869 - acc: 0.5554 - val_loss: 0.7810 - val_acc: 0.7858\n",
      "Epoch 2/20\n",
      "26270/26270 [==============================] - 38s - loss: 0.5027 - acc: 0.8749 - val_loss: 0.3932 - val_acc: 0.8885\n",
      "Epoch 3/20\n",
      "26270/26270 [==============================] - 35s - loss: 0.2624 - acc: 0.9395 - val_loss: 0.2329 - val_acc: 0.9430\n",
      "Epoch 4/20\n",
      "26270/26270 [==============================] - 32s - loss: 0.1677 - acc: 0.9631 - val_loss: 0.1692 - val_acc: 0.9616\n",
      "Epoch 5/20\n",
      "26270/26270 [==============================] - 34s - loss: 0.1168 - acc: 0.9774 - val_loss: 0.1568 - val_acc: 0.9597\n",
      "Epoch 6/20\n",
      "26270/26270 [==============================] - 36s - loss: 0.0885 - acc: 0.9824 - val_loss: 0.1118 - val_acc: 0.9744\n",
      "Epoch 7/20\n",
      "26270/26270 [==============================] - 38s - loss: 0.0664 - acc: 0.9887 - val_loss: 0.0991 - val_acc: 0.9785\n",
      "Epoch 8/20\n",
      "26270/26270 [==============================] - 33s - loss: 0.0721 - acc: 0.9837 - val_loss: 0.0952 - val_acc: 0.9757\n",
      "Epoch 9/20\n",
      "26270/26270 [==============================] - 33s - loss: 0.0436 - acc: 0.9919 - val_loss: 0.0851 - val_acc: 0.9796\n",
      "Epoch 10/20\n",
      "26270/26270 [==============================] - 40s - loss: 0.0324 - acc: 0.9945 - val_loss: 0.0723 - val_acc: 0.9841\n",
      "Epoch 11/20\n",
      "26270/26270 [==============================] - 40s - loss: 0.0269 - acc: 0.9959 - val_loss: 0.0839 - val_acc: 0.9812\n",
      "Epoch 12/20\n",
      "26270/26270 [==============================] - 33s - loss: 0.0246 - acc: 0.9960 - val_loss: 0.0898 - val_acc: 0.9800\n",
      "Epoch 00011: early stopping\n"
     ]
    }
   ],
   "source": [
    "\n",
    "model3 = Sequential()\n",
    "model3.add(Conv2D(32, 3, 3, input_shape=(32, 32, 3)))\n",
    "model3.add(MaxPooling2D((2,2)))\n",
    "model3.add(Activation('relu'))\n",
    "model3.add(Flatten())\n",
    "model3.add(Dense(128, activation='relu'))\n",
    "model3.add(Dense(43, activation='softmax'))\n",
    "\n",
    "model3.summary()\n",
    "# TODO: Compile and train the model here.\n",
    "model3.compile(loss='categorical_crossentropy',\n",
    "              optimizer='adam',\n",
    "              metrics=['accuracy'])\n",
    "history3 = model3.fit(X_train, y_train,\n",
    "                    batch_size=128, nb_epoch=20,\n",
    "                    verbose=1, validation_data=(X_val, y_val), callbacks = [earlystop])"
   ]
  },
  {
   "cell_type": "markdown",
   "metadata": {},
   "source": [
    "**Validation Accuracy**: (fill in here)"
   ]
  },
  {
   "cell_type": "markdown",
   "metadata": {},
   "source": [
    "## Dropout\n",
    "Re-construct your network and add [dropout](https://keras.io/layers/core/#dropout) after the pooling layer. Set the dropout rate to 50%."
   ]
  },
  {
   "cell_type": "code",
   "execution_count": 17,
   "metadata": {
    "collapsed": true
   },
   "outputs": [],
   "source": [
    "# TODO: Re-construct the network and add dropout after the pooling layer.\n",
    "from keras.layers import Dropout"
   ]
  },
  {
   "cell_type": "code",
   "execution_count": 18,
   "metadata": {
    "collapsed": false
   },
   "outputs": [
    {
     "name": "stdout",
     "output_type": "stream",
     "text": [
      "____________________________________________________________________________________________________\n",
      "Layer (type)                     Output Shape          Param #     Connected to                     \n",
      "====================================================================================================\n",
      "convolution2d_4 (Convolution2D)  (None, 30, 30, 32)    896         convolution2d_input_4[0][0]      \n",
      "____________________________________________________________________________________________________\n",
      "maxpooling2d_3 (MaxPooling2D)    (None, 15, 15, 32)    0           convolution2d_4[0][0]            \n",
      "____________________________________________________________________________________________________\n",
      "dropout_1 (Dropout)              (None, 15, 15, 32)    0           maxpooling2d_3[0][0]             \n",
      "____________________________________________________________________________________________________\n",
      "activation_3 (Activation)        (None, 15, 15, 32)    0           dropout_1[0][0]                  \n",
      "____________________________________________________________________________________________________\n",
      "flatten_4 (Flatten)              (None, 7200)          0           activation_3[0][0]               \n",
      "____________________________________________________________________________________________________\n",
      "dense_9 (Dense)                  (None, 128)           921728      flatten_4[0][0]                  \n",
      "____________________________________________________________________________________________________\n",
      "dense_10 (Dense)                 (None, 43)            5547        dense_9[0][0]                    \n",
      "====================================================================================================\n",
      "Total params: 928171\n",
      "____________________________________________________________________________________________________\n",
      "Train on 26270 samples, validate on 12939 samples\n",
      "Epoch 1/20\n",
      "26270/26270 [==============================] - 38s - loss: 1.6784 - acc: 0.5587 - val_loss: 0.7203 - val_acc: 0.8338\n",
      "Epoch 2/20\n",
      "26270/26270 [==============================] - 38s - loss: 0.5414 - acc: 0.8571 - val_loss: 0.3684 - val_acc: 0.9168\n",
      "Epoch 3/20\n",
      "26270/26270 [==============================] - 36s - loss: 0.3230 - acc: 0.9183 - val_loss: 0.2353 - val_acc: 0.9455\n",
      "Epoch 4/20\n",
      "26270/26270 [==============================] - 37s - loss: 0.2341 - acc: 0.9396 - val_loss: 0.1806 - val_acc: 0.9605\n",
      "Epoch 5/20\n",
      "26270/26270 [==============================] - 38s - loss: 0.1808 - acc: 0.9546 - val_loss: 0.1688 - val_acc: 0.9634\n",
      "Epoch 6/20\n",
      "26270/26270 [==============================] - 40s - loss: 0.1513 - acc: 0.9614 - val_loss: 0.1269 - val_acc: 0.9704\n",
      "Epoch 7/20\n",
      "26270/26270 [==============================] - 42s - loss: 0.1321 - acc: 0.9655 - val_loss: 0.1146 - val_acc: 0.9719\n",
      "Epoch 8/20\n",
      "26270/26270 [==============================] - 39s - loss: 0.1124 - acc: 0.9701 - val_loss: 0.1018 - val_acc: 0.9761\n",
      "Epoch 9/20\n",
      "26270/26270 [==============================] - 40s - loss: 0.1035 - acc: 0.9724 - val_loss: 0.0904 - val_acc: 0.9758\n",
      "Epoch 10/20\n",
      "26270/26270 [==============================] - 40s - loss: 0.0899 - acc: 0.9758 - val_loss: 0.0809 - val_acc: 0.9825\n",
      "Epoch 11/20\n",
      "26270/26270 [==============================] - 38s - loss: 0.0783 - acc: 0.9788 - val_loss: 0.0862 - val_acc: 0.9796\n",
      "Epoch 12/20\n",
      "26270/26270 [==============================] - 41s - loss: 0.0782 - acc: 0.9802 - val_loss: 0.0828 - val_acc: 0.9773\n",
      "Epoch 00011: early stopping\n"
     ]
    }
   ],
   "source": [
    "model4 = Sequential()\n",
    "model4.add(Conv2D(32, 3, 3, input_shape=(32, 32, 3)))\n",
    "model4.add(MaxPooling2D((2,2)))\n",
    "model4.add((Dropout(0.5)))\n",
    "model4.add(Activation('relu'))\n",
    "model4.add(Flatten())\n",
    "model4.add(Dense(128, activation='relu'))\n",
    "model4.add(Dense(43, activation='softmax'))\n",
    "\n",
    "model4.summary()\n",
    "# TODO: Compile and train the model here.\n",
    "model4.compile(loss='categorical_crossentropy',\n",
    "              optimizer='adam',\n",
    "              metrics=['accuracy'])\n",
    "history4 = model4.fit(X_train, y_train,\n",
    "                    batch_size=128, nb_epoch=20,\n",
    "                    verbose=1, validation_data=(X_val, y_val), callbacks = [earlystop])\n",
    "# TODO: Compile and train the model here."
   ]
  },
  {
   "cell_type": "markdown",
   "metadata": {
    "collapsed": true
   },
   "source": [
    "**Validation Accuracy**: (fill in here)"
   ]
  },
  {
   "cell_type": "markdown",
   "metadata": {},
   "source": [
    "## Optimization\n",
    "Congratulations! You've built a neural network with convolutions, pooling, dropout, and fully-connected layers, all in just a few lines of code.\n",
    "\n",
    "Have fun with the model and see how well you can do! Add more layers, or regularization, or different padding, or batches, or more training epochs.\n",
    "\n",
    "What is the best validation accuracy you can achieve?"
   ]
  },
  {
   "cell_type": "code",
   "execution_count": 19,
   "metadata": {
    "collapsed": false
   },
   "outputs": [
    {
     "data": {
      "text/plain": [
       "{'acc': [0.55866006853283701,\n",
       "  0.85709935288307648,\n",
       "  0.91834792535841392,\n",
       "  0.93962695086279158,\n",
       "  0.95458698131577979,\n",
       "  0.96140083746171334,\n",
       "  0.96547392459708925,\n",
       "  0.97007993906225864,\n",
       "  0.97236391320898363,\n",
       "  0.97578987438142373,\n",
       "  0.97883517317414326,\n",
       "  0.98024362387383079],\n",
       " 'loss': [1.6783720971333649,\n",
       "  0.54136567103077715,\n",
       "  0.32304962565565815,\n",
       "  0.23411430820885112,\n",
       "  0.1808397036033027,\n",
       "  0.15133527495423604,\n",
       "  0.13206270812444465,\n",
       "  0.11241172612405431,\n",
       "  0.10347644052123293,\n",
       "  0.089924028176895154,\n",
       "  0.078296346365157574,\n",
       "  0.078172177112075275],\n",
       " 'val_acc': [0.83383569054334916,\n",
       "  0.9168405595486514,\n",
       "  0.94551356366782779,\n",
       "  0.96050699435814202,\n",
       "  0.96344385192055026,\n",
       "  0.97039956719993814,\n",
       "  0.97186799598114226,\n",
       "  0.97611871087410151,\n",
       "  0.97580956797279539,\n",
       "  0.98245614035087714,\n",
       "  0.97959656851379551,\n",
       "  0.97727799675399951],\n",
       " 'val_loss': [0.72025304358325593,\n",
       "  0.36842765778231745,\n",
       "  0.23528518776905041,\n",
       "  0.18059499518254393,\n",
       "  0.16880654595116854,\n",
       "  0.1268528216018287,\n",
       "  0.11460877867751397,\n",
       "  0.10180955636989841,\n",
       "  0.090417329681039188,\n",
       "  0.080942961924399662,\n",
       "  0.086153527200858296,\n",
       "  0.082849147018613525]}"
      ]
     },
     "execution_count": 19,
     "metadata": {},
     "output_type": "execute_result"
    }
   ],
   "source": [
    "history4.history"
   ]
  },
  {
   "cell_type": "markdown",
   "metadata": {},
   "source": [
    "**Best Validation Accuracy:** (fill in here)"
   ]
  },
  {
   "cell_type": "markdown",
   "metadata": {},
   "source": [
    "## Testing\n",
    "Once you've picked out your best model, it's time to test it.\n",
    "\n",
    "Load up the test data and use the [`evaluate()` method](https://keras.io/models/model/#evaluate) to see how well it does.\n",
    "\n",
    "Hint 1: The `evaluate()` method should return an array of numbers. Use the `metrics_names()` method to get the labels."
   ]
  },
  {
   "cell_type": "code",
   "execution_count": 20,
   "metadata": {
    "collapsed": true
   },
   "outputs": [],
   "source": [
    "# TODO: Load test data\n",
    "with open('./test.p', mode='rb') as f:\n",
    "    test = pickle.load(f)\n",
    "    \n",
    "# TODO: Preprocess data & one-hot encode the labels\n",
    "X_test = test['features']\n",
    "y_test = test['labels']\n",
    "X_test = X_test.astype('float32')\n",
    "X_test /= 255\n",
    "X_test -= 0.5\n",
    "y_test = np_utils.to_categorical(y_test, 43)\n",
    "\n",
    "# TODO: Evaluate model on test"
   ]
  },
  {
   "cell_type": "code",
   "execution_count": 23,
   "metadata": {
    "collapsed": false
   },
   "outputs": [
    {
     "name": "stdout",
     "output_type": "stream",
     "text": [
      "12630/12630 [==============================] - 1s     \n"
     ]
    },
    {
     "data": {
      "text/plain": [
       "[0.86440105602463746, 0.76247030874140564]"
      ]
     },
     "execution_count": 23,
     "metadata": {},
     "output_type": "execute_result"
    }
   ],
   "source": [
    "X_test_flat = X_test.reshape(-1, 32*32*3)\n",
    "model1.evaluate(X_test_flat, y_test)"
   ]
  },
  {
   "cell_type": "code",
   "execution_count": 54,
   "metadata": {
    "collapsed": false
   },
   "outputs": [
    {
     "name": "stdout",
     "output_type": "stream",
     "text": [
      "12630/12630 [==============================] - 10s    \n"
     ]
    },
    {
     "data": {
      "text/plain": [
       "[0.79371107594771506, 0.88083927161336795]"
      ]
     },
     "execution_count": 54,
     "metadata": {},
     "output_type": "execute_result"
    }
   ],
   "source": [
    "model2.evaluate(X_test, y_test)"
   ]
  },
  {
   "cell_type": "code",
   "execution_count": 25,
   "metadata": {
    "collapsed": false
   },
   "outputs": [
    {
     "name": "stdout",
     "output_type": "stream",
     "text": [
      "12630/12630 [==============================] - 7s     \n"
     ]
    },
    {
     "data": {
      "text/plain": [
       "[0.69315784700975847, 0.87537608863999705]"
      ]
     },
     "execution_count": 25,
     "metadata": {},
     "output_type": "execute_result"
    }
   ],
   "source": [
    "model3.evaluate(X_test, y_test)"
   ]
  },
  {
   "cell_type": "code",
   "execution_count": 26,
   "metadata": {
    "collapsed": false
   },
   "outputs": [
    {
     "name": "stdout",
     "output_type": "stream",
     "text": [
      "12630/12630 [==============================] - 8s     \n"
     ]
    },
    {
     "data": {
      "text/plain": [
       "[0.55205653501897223, 0.88669833732991588]"
      ]
     },
     "execution_count": 26,
     "metadata": {},
     "output_type": "execute_result"
    }
   ],
   "source": [
    "model4.evaluate(X_test, y_test)"
   ]
  },
  {
   "cell_type": "code",
   "execution_count": 55,
   "metadata": {
    "collapsed": false
   },
   "outputs": [
    {
     "data": {
      "text/plain": [
       "['loss', 'acc']"
      ]
     },
     "execution_count": 55,
     "metadata": {},
     "output_type": "execute_result"
    }
   ],
   "source": [
    "model3.metrics_names"
   ]
  },
  {
   "cell_type": "markdown",
   "metadata": {},
   "source": [
    "**Test Accuracy:** (fill in here)"
   ]
  },
  {
   "cell_type": "markdown",
   "metadata": {},
   "source": [
    "## Summary\n",
    "Keras is a great tool to use if you want to quickly build a neural network and evaluate performance."
   ]
  },
  {
   "cell_type": "code",
   "execution_count": 61,
   "metadata": {
    "collapsed": false
   },
   "outputs": [
    {
     "name": "stdout",
     "output_type": "stream",
     "text": [
      "(39209,)\n"
     ]
    }
   ],
   "source": [
    "print (data['labels'].shape)"
   ]
  },
  {
   "cell_type": "code",
   "execution_count": 63,
   "metadata": {
    "collapsed": false
   },
   "outputs": [
    {
     "name": "stdout",
     "output_type": "stream",
     "text": [
      "(12630,)\n"
     ]
    }
   ],
   "source": [
    "print (test['labels'].shape)"
   ]
  },
  {
   "cell_type": "code",
   "execution_count": 65,
   "metadata": {
    "collapsed": false
   },
   "outputs": [
    {
     "data": {
      "image/png": "[encoded data removed]",
      "text/plain": [
       "<matplotlib.figure.Figure at 0x11422c908>"
      ]
     },
     "metadata": {},
     "output_type": "display_data"
    }
   ],
   "source": [
    "plt.hist(data['labels'], bins =43);"
   ]
  },
  {
   "cell_type": "code",
   "execution_count": 67,
   "metadata": {
    "collapsed": false
   },
   "outputs": [
    {
     "data": {
      "image/png": "[encoded data removed]",
      "text/plain": [
       "<matplotlib.figure.Figure at 0x1231f1f28>"
      ]
     },
     "metadata": {},
     "output_type": "display_data"
    }
   ],
   "source": [
    "plt.hist(test['labels'], bins = 43);"
   ]
  },
  {
   "cell_type": "code",
   "execution_count": 68,
   "metadata": {
    "collapsed": false
   },
   "outputs": [
    {
     "name": "stdout",
     "output_type": "stream",
     "text": [
      "<class 'numpy.ndarray'>\n"
     ]
    }
   ],
   "source": [
    "print (type(data['features']))"
   ]
  },
  {
   "cell_type": "code",
   "execution_count": 70,
   "metadata": {
    "collapsed": false
   },
   "outputs": [],
   "source": [
    "d = data['features']"
   ]
  },
  {
   "cell_type": "code",
   "execution_count": 71,
   "metadata": {
    "collapsed": false
   },
   "outputs": [
    {
     "data": {
      "text/plain": [
       "numpy.ndarray"
      ]
     },
     "execution_count": 71,
     "metadata": {},
     "output_type": "execute_result"
    }
   ],
   "source": [
    "type(d)\n"
   ]
  },
  {
   "cell_type": "code",
   "execution_count": 73,
   "metadata": {
    "collapsed": false
   },
   "outputs": [
    {
     "data": {
      "text/plain": [
       "(39209, 32, 32, 3)"
      ]
     },
     "execution_count": 73,
     "metadata": {},
     "output_type": "execute_result"
    }
   ],
   "source": [
    "d.shape"
   ]
  },
  {
   "cell_type": "code",
   "execution_count": 77,
   "metadata": {
    "collapsed": false
   },
   "outputs": [
    {
     "name": "stdout",
     "output_type": "stream",
     "text": [
      "(1, 32, 32, 3)\n"
     ]
    }
   ],
   "source": [
    "print ((d[:1].shape))"
   ]
  },
  {
   "cell_type": "code",
   "execution_count": null,
   "metadata": {
    "collapsed": true
   },
   "outputs": [],
   "source": []
  }
 ],
 "metadata": {
  "anaconda-cloud": {},
  "kernelspec": {
   "display_name": "Python [conda env:SDC]",
   "language": "python",
   "name": "conda-env-SDC-py"
  },
  "language_info": {
   "codemirror_mode": {
    "name": "ipython",
    "version": 3
   },
   "file_extension": ".py",
   "mimetype": "text/x-python",
   "name": "python",
   "nbconvert_exporter": "python",
   "pygments_lexer": "ipython3",
   "version": "3.5.2"
  }
 },
 "nbformat": 4,
 "nbformat_minor": 0
}
